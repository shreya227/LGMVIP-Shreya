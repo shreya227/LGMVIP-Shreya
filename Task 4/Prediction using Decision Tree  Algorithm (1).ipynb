{
 "cells": [
  {
   "cell_type": "markdown",
   "id": "950fc9a9",
   "metadata": {},
   "source": [
    "![LGVIP](https://miro.medium.com/max/1400/1*-Sl1qQYRmmhI3X4c6DzI-w.png)"
   ]
  },
  {
   "cell_type": "markdown",
   "id": "f94a0007",
   "metadata": {},
   "source": [
    "## <p style = 'text-align:center;'> Lets Grow More Virtual Internship Program for May 2022 Batch </p>"
   ]
  },
  {
   "cell_type": "markdown",
   "id": "816df908",
   "metadata": {},
   "source": [
    "### <p style = 'text-align:center;'> Author: Shreya Nadkarni </p>"
   ]
  },
  {
   "cell_type": "markdown",
   "id": "6e21f57a",
   "metadata": {},
   "source": [
    "###  Intermediate Level\n",
    "  ### Task 2 : Prediction using Decision Tree  Algorithm "
    ● Create the Decision Tree classifier and visualize it graphically.
    ● The purpose is if we feed any new data to this classifier, it would be able to predict the right class accordingly.
   ]
  },
  {
   "cell_type": "markdown",
   "id": "d170d015",
   "metadata": {},
   "source": [
    "### Importing the required libraries"
   ]
  },
  {
   "cell_type": "code",
   "execution_count": 1,
   "id": "22c943db",
   "metadata": {},
   "outputs": [],
   "source": [
    "import numpy as np\n",
    "import pandas as pd\n",
    "import seaborn as sns\n",
    "import matplotlib.pyplot as plt\n",
    "%matplotlib inline\n",
    "import sklearn.metrics as sm\n",
    "from sklearn.preprocessing import LabelEncoder"
   ]
  },
  {
   "cell_type": "markdown",
   "id": "819feeb0",
   "metadata": {},
   "source": [
    "### Importing the Dataset"
   ]
  },
  {
   "cell_type": "code",
   "execution_count": 2,
   "id": "b5ef640a",
   "metadata": {},
   "outputs": [
    {
     "data": {
      "text/html": [
       "<div>\n",
       "<style scoped>\n",
       "    .dataframe tbody tr th:only-of-type {\n",
       "        vertical-align: middle;\n",
       "    }\n",
       "\n",
       "    .dataframe tbody tr th {\n",
       "        vertical-align: top;\n",
       "    }\n",
       "\n",
       "    .dataframe thead th {\n",
       "        text-align: right;\n",
       "    }\n",
       "</style>\n",
       "<table border=\"1\" class=\"dataframe\">\n",
       "  <thead>\n",
       "    <tr style=\"text-align: right;\">\n",
       "      <th></th>\n",
       "      <th>Id</th>\n",
       "      <th>SepalLengthCm</th>\n",
       "      <th>SepalWidthCm</th>\n",
       "      <th>PetalLengthCm</th>\n",
       "      <th>PetalWidthCm</th>\n",
       "      <th>Species</th>\n",
       "    </tr>\n",
       "  </thead>\n",
       "  <tbody>\n",
       "    <tr>\n",
       "      <th>0</th>\n",
       "      <td>1</td>\n",
       "      <td>5.1</td>\n",
       "      <td>3.5</td>\n",
       "      <td>1.4</td>\n",
       "      <td>0.2</td>\n",
       "      <td>Iris-setosa</td>\n",
       "    </tr>\n",
       "    <tr>\n",
       "      <th>1</th>\n",
       "      <td>2</td>\n",
       "      <td>4.9</td>\n",
       "      <td>3.0</td>\n",
       "      <td>1.4</td>\n",
       "      <td>0.2</td>\n",
       "      <td>Iris-setosa</td>\n",
       "    </tr>\n",
       "    <tr>\n",
       "      <th>2</th>\n",
       "      <td>3</td>\n",
       "      <td>4.7</td>\n",
       "      <td>3.2</td>\n",
       "      <td>1.3</td>\n",
       "      <td>0.2</td>\n",
       "      <td>Iris-setosa</td>\n",
       "    </tr>\n",
       "    <tr>\n",
       "      <th>3</th>\n",
       "      <td>4</td>\n",
       "      <td>4.6</td>\n",
       "      <td>3.1</td>\n",
       "      <td>1.5</td>\n",
       "      <td>0.2</td>\n",
       "      <td>Iris-setosa</td>\n",
       "    </tr>\n",
       "    <tr>\n",
       "      <th>4</th>\n",
       "      <td>5</td>\n",
       "      <td>5.0</td>\n",
       "      <td>3.6</td>\n",
       "      <td>1.4</td>\n",
       "      <td>0.2</td>\n",
       "      <td>Iris-setosa</td>\n",
       "    </tr>\n",
       "  </tbody>\n",
       "</table>\n",
       "</div>"
      ],
      "text/plain": [
       "   Id  SepalLengthCm  SepalWidthCm  PetalLengthCm  PetalWidthCm      Species\n",
       "0   1            5.1           3.5            1.4           0.2  Iris-setosa\n",
       "1   2            4.9           3.0            1.4           0.2  Iris-setosa\n",
       "2   3            4.7           3.2            1.3           0.2  Iris-setosa\n",
       "3   4            4.6           3.1            1.5           0.2  Iris-setosa\n",
       "4   5            5.0           3.6            1.4           0.2  Iris-setosa"
      ]
     },
     "execution_count": 2,
     "metadata": {},
     "output_type": "execute_result"
    }
   ],
   "source": [
    "iris = pd.read_csv('Iris.csv')\n",
    "iris.head()"
   ]
  },
  {
   "cell_type": "markdown",
   "id": "c1ed4452",
   "metadata": {},
   "source": [
    "### Data Profiling"
   ]
  },
  {
   "cell_type": "code",
   "execution_count": 3,
   "id": "4294a32b",
   "metadata": {},
   "outputs": [
    {
     "data": {
      "text/plain": [
       "(150, 6)"
      ]
     },
     "execution_count": 3,
     "metadata": {},
     "output_type": "execute_result"
    }
   ],
   "source": [
    "iris.shape"
   ]
  },
  {
   "cell_type": "code",
   "execution_count": 4,
   "id": "e42bb55d",
   "metadata": {},
   "outputs": [
    {
     "name": "stdout",
     "output_type": "stream",
     "text": [
      "<class 'pandas.core.frame.DataFrame'>\n",
      "RangeIndex: 150 entries, 0 to 149\n",
      "Data columns (total 6 columns):\n",
      " #   Column         Non-Null Count  Dtype  \n",
      "---  ------         --------------  -----  \n",
      " 0   Id             150 non-null    int64  \n",
      " 1   SepalLengthCm  150 non-null    float64\n",
      " 2   SepalWidthCm   150 non-null    float64\n",
      " 3   PetalLengthCm  150 non-null    float64\n",
      " 4   PetalWidthCm   150 non-null    float64\n",
      " 5   Species        150 non-null    object \n",
      "dtypes: float64(4), int64(1), object(1)\n",
      "memory usage: 7.2+ KB\n"
     ]
    }
   ],
   "source": [
    "iris.info()"
   ]
  },
  {
   "cell_type": "code",
   "execution_count": 5,
   "id": "9a77c51e",
   "metadata": {},
   "outputs": [],
   "source": [
    "iris.drop('Id', axis=1, inplace=True)"
   ]
  },
  {
   "cell_type": "code",
   "execution_count": 6,
   "id": "89ee3ce7",
   "metadata": {},
   "outputs": [
    {
     "data": {
      "text/plain": [
       "SepalLengthCm    0\n",
       "SepalWidthCm     0\n",
       "PetalLengthCm    0\n",
       "PetalWidthCm     0\n",
       "Species          0\n",
       "dtype: int64"
      ]
     },
     "execution_count": 6,
     "metadata": {},
     "output_type": "execute_result"
    }
   ],
   "source": [
    "iris.isnull().sum()"
   ]
  },
  {
   "cell_type": "code",
   "execution_count": 7,
   "id": "78f718a3",
   "metadata": {},
   "outputs": [
    {
     "data": {
      "text/html": [
       "<div>\n",
       "<style scoped>\n",
       "    .dataframe tbody tr th:only-of-type {\n",
       "        vertical-align: middle;\n",
       "    }\n",
       "\n",
       "    .dataframe tbody tr th {\n",
       "        vertical-align: top;\n",
       "    }\n",
       "\n",
       "    .dataframe thead th {\n",
       "        text-align: right;\n",
       "    }\n",
       "</style>\n",
       "<table border=\"1\" class=\"dataframe\">\n",
       "  <thead>\n",
       "    <tr style=\"text-align: right;\">\n",
       "      <th></th>\n",
       "      <th>SepalLengthCm</th>\n",
       "      <th>SepalWidthCm</th>\n",
       "      <th>PetalLengthCm</th>\n",
       "      <th>PetalWidthCm</th>\n",
       "    </tr>\n",
       "  </thead>\n",
       "  <tbody>\n",
       "    <tr>\n",
       "      <th>count</th>\n",
       "      <td>150.000000</td>\n",
       "      <td>150.000000</td>\n",
       "      <td>150.000000</td>\n",
       "      <td>150.000000</td>\n",
       "    </tr>\n",
       "    <tr>\n",
       "      <th>mean</th>\n",
       "      <td>5.843333</td>\n",
       "      <td>3.054000</td>\n",
       "      <td>3.758667</td>\n",
       "      <td>1.198667</td>\n",
       "    </tr>\n",
       "    <tr>\n",
       "      <th>std</th>\n",
       "      <td>0.828066</td>\n",
       "      <td>0.433594</td>\n",
       "      <td>1.764420</td>\n",
       "      <td>0.763161</td>\n",
       "    </tr>\n",
       "    <tr>\n",
       "      <th>min</th>\n",
       "      <td>4.300000</td>\n",
       "      <td>2.000000</td>\n",
       "      <td>1.000000</td>\n",
       "      <td>0.100000</td>\n",
       "    </tr>\n",
       "    <tr>\n",
       "      <th>25%</th>\n",
       "      <td>5.100000</td>\n",
       "      <td>2.800000</td>\n",
       "      <td>1.600000</td>\n",
       "      <td>0.300000</td>\n",
       "    </tr>\n",
       "    <tr>\n",
       "      <th>50%</th>\n",
       "      <td>5.800000</td>\n",
       "      <td>3.000000</td>\n",
       "      <td>4.350000</td>\n",
       "      <td>1.300000</td>\n",
       "    </tr>\n",
       "    <tr>\n",
       "      <th>75%</th>\n",
       "      <td>6.400000</td>\n",
       "      <td>3.300000</td>\n",
       "      <td>5.100000</td>\n",
       "      <td>1.800000</td>\n",
       "    </tr>\n",
       "    <tr>\n",
       "      <th>max</th>\n",
       "      <td>7.900000</td>\n",
       "      <td>4.400000</td>\n",
       "      <td>6.900000</td>\n",
       "      <td>2.500000</td>\n",
       "    </tr>\n",
       "  </tbody>\n",
       "</table>\n",
       "</div>"
      ],
      "text/plain": [
       "       SepalLengthCm  SepalWidthCm  PetalLengthCm  PetalWidthCm\n",
       "count     150.000000    150.000000     150.000000    150.000000\n",
       "mean        5.843333      3.054000       3.758667      1.198667\n",
       "std         0.828066      0.433594       1.764420      0.763161\n",
       "min         4.300000      2.000000       1.000000      0.100000\n",
       "25%         5.100000      2.800000       1.600000      0.300000\n",
       "50%         5.800000      3.000000       4.350000      1.300000\n",
       "75%         6.400000      3.300000       5.100000      1.800000\n",
       "max         7.900000      4.400000       6.900000      2.500000"
      ]
     },
     "execution_count": 7,
     "metadata": {},
     "output_type": "execute_result"
    }
   ],
   "source": [
    "iris.describe()"
   ]
  },
  {
   "cell_type": "code",
   "execution_count": 8,
   "id": "54f96c67",
   "metadata": {},
   "outputs": [
    {
     "name": "stdout",
     "output_type": "stream",
     "text": [
      "Types of species are: ['Iris-setosa' 'Iris-versicolor' 'Iris-virginica'] \n",
      "\n",
      "Iris-setosa        50\n",
      "Iris-versicolor    50\n",
      "Iris-virginica     50\n",
      "Name: Species, dtype: int64\n"
     ]
    }
   ],
   "source": [
    "print('Types of species are:', iris['Species'].unique(),'\\n')\n",
    "print(iris['Species'].value_counts())"
   ]
  },
  {
   "cell_type": "code",
   "execution_count": 9,
   "id": "059978ed",
   "metadata": {},
   "outputs": [
    {
     "data": {
      "text/html": [
       "<div>\n",
       "<style scoped>\n",
       "    .dataframe tbody tr th:only-of-type {\n",
       "        vertical-align: middle;\n",
       "    }\n",
       "\n",
       "    .dataframe tbody tr th {\n",
       "        vertical-align: top;\n",
       "    }\n",
       "\n",
       "    .dataframe thead th {\n",
       "        text-align: right;\n",
       "    }\n",
       "</style>\n",
       "<table border=\"1\" class=\"dataframe\">\n",
       "  <thead>\n",
       "    <tr style=\"text-align: right;\">\n",
       "      <th></th>\n",
       "      <th>SepalLengthCm</th>\n",
       "      <th>SepalWidthCm</th>\n",
       "      <th>PetalLengthCm</th>\n",
       "      <th>PetalWidthCm</th>\n",
       "      <th>Species</th>\n",
       "      <th>Encoded_species</th>\n",
       "    </tr>\n",
       "  </thead>\n",
       "  <tbody>\n",
       "    <tr>\n",
       "      <th>0</th>\n",
       "      <td>5.1</td>\n",
       "      <td>3.5</td>\n",
       "      <td>1.4</td>\n",
       "      <td>0.2</td>\n",
       "      <td>Iris-setosa</td>\n",
       "      <td>0</td>\n",
       "    </tr>\n",
       "    <tr>\n",
       "      <th>1</th>\n",
       "      <td>4.9</td>\n",
       "      <td>3.0</td>\n",
       "      <td>1.4</td>\n",
       "      <td>0.2</td>\n",
       "      <td>Iris-setosa</td>\n",
       "      <td>0</td>\n",
       "    </tr>\n",
       "    <tr>\n",
       "      <th>2</th>\n",
       "      <td>4.7</td>\n",
       "      <td>3.2</td>\n",
       "      <td>1.3</td>\n",
       "      <td>0.2</td>\n",
       "      <td>Iris-setosa</td>\n",
       "      <td>0</td>\n",
       "    </tr>\n",
       "    <tr>\n",
       "      <th>3</th>\n",
       "      <td>4.6</td>\n",
       "      <td>3.1</td>\n",
       "      <td>1.5</td>\n",
       "      <td>0.2</td>\n",
       "      <td>Iris-setosa</td>\n",
       "      <td>0</td>\n",
       "    </tr>\n",
       "    <tr>\n",
       "      <th>4</th>\n",
       "      <td>5.0</td>\n",
       "      <td>3.6</td>\n",
       "      <td>1.4</td>\n",
       "      <td>0.2</td>\n",
       "      <td>Iris-setosa</td>\n",
       "      <td>0</td>\n",
       "    </tr>\n",
       "  </tbody>\n",
       "</table>\n",
       "</div>"
      ],
      "text/plain": [
       "   SepalLengthCm  SepalWidthCm  PetalLengthCm  PetalWidthCm      Species  \\\n",
       "0            5.1           3.5            1.4           0.2  Iris-setosa   \n",
       "1            4.9           3.0            1.4           0.2  Iris-setosa   \n",
       "2            4.7           3.2            1.3           0.2  Iris-setosa   \n",
       "3            4.6           3.1            1.5           0.2  Iris-setosa   \n",
       "4            5.0           3.6            1.4           0.2  Iris-setosa   \n",
       "\n",
       "   Encoded_species  \n",
       "0                0  \n",
       "1                0  \n",
       "2                0  \n",
       "3                0  \n",
       "4                0  "
      ]
     },
     "execution_count": 9,
     "metadata": {},
     "output_type": "execute_result"
    }
   ],
   "source": [
    "le = LabelEncoder()\n",
    "iris['Encoded_species']= le.fit_transform(iris['Species'])\n",
    "iris.head()"
   ]
  },
  {
   "cell_type": "markdown",
   "id": "6384ec15",
   "metadata": {},
   "source": [
    "### Splitting the data into train and test data sets"
   ]
  },
  {
   "cell_type": "code",
   "execution_count": 11,
   "id": "a047f7ec",
   "metadata": {},
   "outputs": [],
   "source": [
    "x = iris.drop(['Species'], axis=1)\n",
    "y = iris['Species']\n",
    "from sklearn.model_selection import train_test_split\n",
    "x_train,x_test,y_train,y_test = train_test_split(x,y,test_size=0.3,random_state=1)"
   ]
  },
  {
   "cell_type": "markdown",
   "id": "c0fa6831",
   "metadata": {},
   "source": [
    "### Decision Tree Classifier"
   ]
  },
  {
   "cell_type": "code",
   "execution_count": 15,
   "id": "4712c678",
   "metadata": {},
   "outputs": [],
   "source": [
    "from sklearn.tree import DecisionTreeClassifier\n",
    "dtree =DecisionTreeClassifier(criterion = 'entropy', splitter = 'best')\n",
    "dt = dtree.fit(x_train,y_train)"
   ]
  },
  {
   "cell_type": "code",
   "execution_count": 16,
   "id": "7714195b",
   "metadata": {},
   "outputs": [
    {
     "data": {
      "text/plain": [
       "array(['Iris-setosa', 'Iris-versicolor', 'Iris-versicolor', 'Iris-setosa',\n",
       "       'Iris-virginica', 'Iris-versicolor', 'Iris-virginica',\n",
       "       'Iris-setosa', 'Iris-setosa', 'Iris-virginica', 'Iris-versicolor',\n",
       "       'Iris-setosa', 'Iris-virginica', 'Iris-versicolor',\n",
       "       'Iris-versicolor', 'Iris-setosa', 'Iris-versicolor',\n",
       "       'Iris-versicolor', 'Iris-setosa', 'Iris-setosa', 'Iris-versicolor',\n",
       "       'Iris-versicolor', 'Iris-versicolor', 'Iris-setosa',\n",
       "       'Iris-virginica', 'Iris-versicolor', 'Iris-setosa', 'Iris-setosa',\n",
       "       'Iris-versicolor', 'Iris-virginica', 'Iris-versicolor',\n",
       "       'Iris-virginica', 'Iris-versicolor', 'Iris-virginica',\n",
       "       'Iris-virginica', 'Iris-setosa', 'Iris-versicolor', 'Iris-setosa',\n",
       "       'Iris-versicolor', 'Iris-virginica', 'Iris-virginica',\n",
       "       'Iris-setosa', 'Iris-virginica', 'Iris-virginica',\n",
       "       'Iris-versicolor'], dtype=object)"
      ]
     },
     "execution_count": 16,
     "metadata": {},
     "output_type": "execute_result"
    }
   ],
   "source": [
    "y_pred = dtree.predict(x_test)\n",
    "y_pred"
   ]
  },
  {
   "cell_type": "code",
   "execution_count": 18,
   "id": "7325b286",
   "metadata": {},
   "outputs": [
    {
     "name": "stdout",
     "output_type": "stream",
     "text": [
      "Training Accuracy is:  100.0\n",
      "Test Accuracy is:  100.0\n"
     ]
    }
   ],
   "source": [
    "from sklearn.tree import DecisionTreeClassifier\n",
    "from sklearn.metrics import accuracy_score\n",
    "dt = DecisionTreeClassifier(criterion=\"entropy\")\n",
    "dt=dt.fit(x_train, y_train)\n",
    "act = accuracy_score(y_train,dt.predict(x_train))\n",
    "print('Training Accuracy is: ',(act*100))\n",
    "\n",
    "act = accuracy_score(y_test,dt.predict(x_test))\n",
    "print('Test Accuracy is: ',(act*100))"
   ]
  },
  {
   "cell_type": "code",
   "execution_count": 20,
   "id": "d438da97",
   "metadata": {},
   "outputs": [
    {
     "data": {
      "text/plain": [
       "array([[14,  0,  0],\n",
       "       [ 0, 18,  0],\n",
       "       [ 0,  0, 13]], dtype=int64)"
      ]
     },
     "execution_count": 20,
     "metadata": {},
     "output_type": "execute_result"
    }
   ],
   "source": [
    "from sklearn.metrics import confusion_matrix\n",
    "cm = confusion_matrix(y_test, y_pred)\n",
    "cm"
   ]
  },
  {
   "cell_type": "code",
   "execution_count": 25,
   "id": "314db23b",
   "metadata": {},
   "outputs": [
    {
     "data": {
      "text/html": [
       "<div>\n",
       "<style scoped>\n",
       "    .dataframe tbody tr th:only-of-type {\n",
       "        vertical-align: middle;\n",
       "    }\n",
       "\n",
       "    .dataframe tbody tr th {\n",
       "        vertical-align: top;\n",
       "    }\n",
       "\n",
       "    .dataframe thead th {\n",
       "        text-align: right;\n",
       "    }\n",
       "</style>\n",
       "<table border=\"1\" class=\"dataframe\">\n",
       "  <thead>\n",
       "    <tr style=\"text-align: right;\">\n",
       "      <th></th>\n",
       "      <th>Iris-setosa</th>\n",
       "      <th>Iris-versicolor</th>\n",
       "      <th>Iris-virginica</th>\n",
       "    </tr>\n",
       "  </thead>\n",
       "  <tbody>\n",
       "    <tr>\n",
       "      <th>Iris-setosa</th>\n",
       "      <td>14</td>\n",
       "      <td>0</td>\n",
       "      <td>0</td>\n",
       "    </tr>\n",
       "    <tr>\n",
       "      <th>Iris-versicolor</th>\n",
       "      <td>0</td>\n",
       "      <td>18</td>\n",
       "      <td>0</td>\n",
       "    </tr>\n",
       "    <tr>\n",
       "      <th>Iris-virginica</th>\n",
       "      <td>0</td>\n",
       "      <td>0</td>\n",
       "      <td>13</td>\n",
       "    </tr>\n",
       "  </tbody>\n",
       "</table>\n",
       "</div>"
      ],
      "text/plain": [
       "                 Iris-setosa  Iris-versicolor  Iris-virginica\n",
       "Iris-setosa               14                0               0\n",
       "Iris-versicolor            0               18               0\n",
       "Iris-virginica             0                0              13"
      ]
     },
     "execution_count": 25,
     "metadata": {},
     "output_type": "execute_result"
    }
   ],
   "source": [
    "lst = iris['Species'].unique().tolist()\n",
    "df_cm = pd.DataFrame(data = cm, index = lst, columns = lst)\n",
    "df_cm"
   ]
  },
  {
   "cell_type": "markdown",
   "id": "fdd68707",
   "metadata": {},
   "source": [
    "### Visualizing the Decision tree"
   ]
  },
  {
   "cell_type": "code",
   "execution_count": 21,
   "id": "da06264e",
   "metadata": {},
   "outputs": [],
   "source": [
    "from sklearn.tree import export_graphviz\n",
    "from six import StringIO  \n",
    "from IPython.display import Image  \n",
    "import pydotplus"
   ]
  },
  {
   "cell_type": "code",
   "execution_count": 38,
   "id": "8a9d0ec9",
   "metadata": {},
   "outputs": [
    {
     "data": {
      "image/png": "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\n",
      "text/plain": [
       "<Figure size 648x648 with 1 Axes>"
      ]
     },
     "metadata": {
      "needs_background": "light"
     },
     "output_type": "display_data"
    }
   ],
   "source": [
    "from sklearn.tree import plot_tree\n",
    "plt.figure(figsize=(9, 9))\n",
    "features = iris.columns[:-1]\n",
    "classes = iris['Species'].unique().tolist()\n",
    "plot_tree(dtree, feature_names=features, class_names=classes, filled=True)\n",
    "plt.show()\n"
   ]
  },
  {
   "cell_type": "code",
   "execution_count": 39,
   "id": "39f29d72",
   "metadata": {},
   "outputs": [],
   "source": [
    "fig.savefig('Decision_tree.png')"
   ]
  }
 ],
 "metadata": {
  "kernelspec": {
   "display_name": "Python 3 (ipykernel)",
   "language": "python",
   "name": "python3"
  },
  "language_info": {
   "codemirror_mode": {
    "name": "ipython",
    "version": 3
   },
   "file_extension": ".py",
   "mimetype": "text/x-python",
   "name": "python",
   "nbconvert_exporter": "python",
   "pygments_lexer": "ipython3",
   "version": "3.9.7"
  }
 },
 "nbformat": 4,
 "nbformat_minor": 5
}
